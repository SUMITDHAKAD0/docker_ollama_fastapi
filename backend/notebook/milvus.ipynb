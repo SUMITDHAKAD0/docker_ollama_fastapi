{
 "cells": [
  {
   "cell_type": "code",
   "execution_count": 1,
   "metadata": {},
   "outputs": [
    {
     "data": {
      "text/plain": [
       "'/home/verge/Desktop/docker_test/backend/notebook'"
      ]
     },
     "execution_count": 1,
     "metadata": {},
     "output_type": "execute_result"
    }
   ],
   "source": [
    "%pwd "
   ]
  },
  {
   "cell_type": "code",
   "execution_count": 2,
   "metadata": {},
   "outputs": [
    {
     "name": "stdout",
     "output_type": "stream",
     "text": [
      "/home/verge/Desktop/docker_test/backend\n"
     ]
    },
    {
     "name": "stderr",
     "output_type": "stream",
     "text": [
      "/home/verge/miniconda3/envs/rag/lib/python3.10/site-packages/IPython/core/magics/osm.py:417: UserWarning: This is now an optional IPython functionality, setting dhist requires you to install the `pickleshare` library.\n",
      "  self.shell.db['dhist'] = compress_dhist(dhist)[-100:]\n"
     ]
    }
   ],
   "source": [
    "%cd .. "
   ]
  },
  {
   "cell_type": "code",
   "execution_count": 3,
   "metadata": {},
   "outputs": [],
   "source": [
    "from langchain.text_splitter import RecursiveCharacterTextSplitter\n",
    "from langchain.prompts import PromptTemplate\n",
    "from langchain_community.document_loaders import PyPDFLoader\n",
    "from langchain.prompts import ChatPromptTemplate\n",
    "from langchain_core.output_parsers import StrOutputParser\n",
    "from langchain_core.runnables import RunnablePassthrough, RunnableMap\n",
    "from langchain_core.documents import Document\n",
    "\n",
    "from IPython.display import Markdown, display"
   ]
  },
  {
   "cell_type": "code",
   "execution_count": 4,
   "metadata": {},
   "outputs": [],
   "source": [
    "from langchain_ollama import ChatOllama, OllamaEmbeddings\n",
    "\n",
    "\n",
    "ollama_llm = ChatOllama(\n",
    "    model= 'llama3.2-vision',\n",
    "    base_url=\"http://localhost:11434\",\n",
    "    temperature=0.7,\n",
    "    num_ctx = 1024, # size of the context window\n",
    "    num_predict = -2, # Maximum number of tokens to predict when generating text.\n",
    "    top_k=40,\n",
    "    top_p=0.9,  \n",
    ")\n",
    "\n",
    "ollama_embedding = OllamaEmbeddings(\n",
    "    model=\"llama3.2-vision\",\n",
    "    base_url=\"http://localhost:11434\"\n",
    ")"
   ]
  },
  {
   "cell_type": "code",
   "execution_count": 5,
   "metadata": {},
   "outputs": [
    {
     "data": {
      "text/plain": [
       "11"
      ]
     },
     "execution_count": 5,
     "metadata": {},
     "output_type": "execute_result"
    }
   ],
   "source": [
    "# for directory loader \n",
    "\n",
    "\n",
    "loader = PyPDFLoader('data/B13 - Chapter II - Procedure  for proceeding Abroad.pdf')\n",
    "documents = loader.load()\n",
    "len(documents)"
   ]
  },
  {
   "cell_type": "code",
   "execution_count": 6,
   "metadata": {},
   "outputs": [
    {
     "data": {
      "text/plain": [
       "15"
      ]
     },
     "execution_count": 6,
     "metadata": {},
     "output_type": "execute_result"
    }
   ],
   "source": [
    "text_splitter = RecursiveCharacterTextSplitter(\n",
    "    chunk_size=1200,\n",
    "    chunk_overlap=200,\n",
    "    length_function=len,\n",
    "    is_separator_regex=False,\n",
    ")\n",
    "\n",
    "chunks = text_splitter.split_documents(documents)\n",
    "len(chunks)"
   ]
  },
  {
   "cell_type": "code",
   "execution_count": 7,
   "metadata": {},
   "outputs": [
    {
     "name": "stdout",
     "output_type": "stream",
     "text": [
      "2025-01-08 12:29:05 - INFO - vectorstore_milvus.py:201 - Connected to Milvus at {'uri': 'database/milvushr.db'}\n"
     ]
    }
   ],
   "source": [
    "from src.vectorstore_milvus import MilvusVectorStoreManager\n",
    "\n",
    "vector = MilvusVectorStoreManager(embeddings=ollama_embedding, collection_name='test_collection')\n",
    "\n",
    "# vector.delete_collection()"
   ]
  },
  {
   "cell_type": "code",
   "execution_count": 8,
   "metadata": {},
   "outputs": [
    {
     "name": "stdout",
     "output_type": "stream",
     "text": [
      "2025-01-08 12:29:05 - INFO - vectorstore_milvus.py:272 - Generating Milvus Collection Summary\n",
      "Milvus Collection Summary:\n",
      "------------------------------\n",
      "Total Collections: 1\n",
      "Collection Name : test_collection ----- No. of Records : 90\n",
      "------------------------------\n",
      "2025-01-08 12:29:05 - INFO - vectorstore_milvus.py:284 - Successfully printed collection summary\n"
     ]
    }
   ],
   "source": [
    "vector.print_collection_summary()"
   ]
  },
  {
   "cell_type": "code",
   "execution_count": 9,
   "metadata": {},
   "outputs": [
    {
     "name": "stdout",
     "output_type": "stream",
     "text": [
      "2025-01-08 12:29:06 - INFO - vectorstore_milvus.py:222 - Successfully created new collection test_collection with 15 of documents\n"
     ]
    }
   ],
   "source": [
    "vec = vector.create_collection(documents=chunks)"
   ]
  },
  {
   "cell_type": "code",
   "execution_count": 10,
   "metadata": {},
   "outputs": [
    {
     "name": "stdout",
     "output_type": "stream",
     "text": [
      "2025-01-08 12:29:06 - INFO - vectorstore_milvus.py:243 - Successfully loaded existing vector store: test_collection with 105 records\n"
     ]
    }
   ],
   "source": [
    "vec1 = vector.load_existing_vector_store()"
   ]
  },
  {
   "cell_type": "code",
   "execution_count": 11,
   "metadata": {},
   "outputs": [
    {
     "name": "stdout",
     "output_type": "stream",
     "text": [
      "2025-01-08 12:29:07 - INFO - vectorstore_milvus.py:260 - Successfully added 15 documents to vector store\n"
     ]
    },
    {
     "data": {
      "text/plain": [
       "[455165751507812382,\n",
       " 455165751507812383,\n",
       " 455165751507812384,\n",
       " 455165751507812385,\n",
       " 455165751507812386,\n",
       " 455165751507812387,\n",
       " 455165751507812388,\n",
       " 455165751507812389,\n",
       " 455165751507812390,\n",
       " 455165751507812391,\n",
       " 455165751507812392,\n",
       " 455165751507812393,\n",
       " 455165751507812394,\n",
       " 455165751507812395,\n",
       " 455165751507812396]"
      ]
     },
     "execution_count": 11,
     "metadata": {},
     "output_type": "execute_result"
    }
   ],
   "source": [
    "vector.add_documents(documents=chunks, vector_store=vec)"
   ]
  },
  {
   "cell_type": "code",
   "execution_count": 12,
   "metadata": {},
   "outputs": [
    {
     "data": {
      "text/plain": [
       "[Document(metadata={'page': 4, 'pk': 455165437052190726, 'source': 'data/B13 - Chapter II - Procedure  for proceeding Abroad.pdf'}, page_content='HR - Executives’ Manual Page B 13 / 5a CHAPTER -II\\nPOLICIES, PROCEDURES & RULES\\n6-13: Procedure for proceeding Abroad\\nISSUE OF NO OBJECTION CERTIFICATE FOR PASSPORT ONLY\\nCertified that Shri ______________________ son of Shri ________________\\nis a permanent employee of Mazagon Dock Shipbuilders Limited, Dockyard\\nRoad, Mazagon, Mumbai 400 010 from ________ (date) and is presently\\nholding the post of _________________ and his identity is certified. This\\norganization has No Objection to his acquiring Indian Passport. The\\nundersigned is duly authorized to sign this Identity Certificate. I have read the\\nprovisions of Section 6(2) of the Passports Act, 1967 and certify that these are\\nnot attracted in the case of this applicant. I recommend issue of an Indian\\nPassport to him. It is certified that this organization is a Central Public Sector\\nUndertaking. The Identity Card No. of Shri_________________ is _________\\nAttested\\nApplicant’s photo For MAZAGON DOCK SHIPBUILDERS LIMITED\\nSignature of HoS (HR-E)\\nOffice Stamp:\\nNOO:\\nCopy to: Shri - This NOC is issued subject to following conditions:\\ni) You will intimate the number and the validity of\\nthe passport as and when obtained.'),\n",
       " Document(metadata={'page': 4, 'pk': 455165574706626596, 'source': 'data/B13 - Chapter II - Procedure  for proceeding Abroad.pdf'}, page_content='HR - Executives’ Manual Page B 13 / 5a CHAPTER -II\\nPOLICIES, PROCEDURES & RULES\\n6-13: Procedure for proceeding Abroad\\nISSUE OF NO OBJECTION CERTIFICATE FOR PASSPORT ONLY\\nCertified that Shri ______________________ son of Shri ________________\\nis a permanent employee of Mazagon Dock Shipbuilders Limited, Dockyard\\nRoad, Mazagon, Mumbai 400 010 from ________ (date) and is presently\\nholding the post of _________________ and his identity is certified. This\\norganization has No Objection to his acquiring Indian Passport. The\\nundersigned is duly authorized to sign this Identity Certificate. I have read the\\nprovisions of Section 6(2) of the Passports Act, 1967 and certify that these are\\nnot attracted in the case of this applicant. I recommend issue of an Indian\\nPassport to him. It is certified that this organization is a Central Public Sector\\nUndertaking. The Identity Card No. of Shri_________________ is _________\\nAttested\\nApplicant’s photo For MAZAGON DOCK SHIPBUILDERS LIMITED\\nSignature of HoS (HR-E)\\nOffice Stamp:\\nNOO:\\nCopy to: Shri - This NOC is issued subject to following conditions:\\ni) You will intimate the number and the validity of\\nthe passport as and when obtained.'),\n",
       " Document(metadata={'page': 4, 'pk': 455165637130190854, 'source': 'data/B13 - Chapter II - Procedure  for proceeding Abroad.pdf'}, page_content='HR - Executives’ Manual Page B 13 / 5a CHAPTER -II\\nPOLICIES, PROCEDURES & RULES\\n6-13: Procedure for proceeding Abroad\\nISSUE OF NO OBJECTION CERTIFICATE FOR PASSPORT ONLY\\nCertified that Shri ______________________ son of Shri ________________\\nis a permanent employee of Mazagon Dock Shipbuilders Limited, Dockyard\\nRoad, Mazagon, Mumbai 400 010 from ________ (date) and is presently\\nholding the post of _________________ and his identity is certified. This\\norganization has No Objection to his acquiring Indian Passport. The\\nundersigned is duly authorized to sign this Identity Certificate. I have read the\\nprovisions of Section 6(2) of the Passports Act, 1967 and certify that these are\\nnot attracted in the case of this applicant. I recommend issue of an Indian\\nPassport to him. It is certified that this organization is a Central Public Sector\\nUndertaking. The Identity Card No. of Shri_________________ is _________\\nAttested\\nApplicant’s photo For MAZAGON DOCK SHIPBUILDERS LIMITED\\nSignature of HoS (HR-E)\\nOffice Stamp:\\nNOO:\\nCopy to: Shri - This NOC is issued subject to following conditions:\\ni) You will intimate the number and the validity of\\nthe passport as and when obtained.'),\n",
       " Document(metadata={'page': 4, 'pk': 455165637400199204, 'source': 'data/B13 - Chapter II - Procedure  for proceeding Abroad.pdf'}, page_content='HR - Executives’ Manual Page B 13 / 5a CHAPTER -II\\nPOLICIES, PROCEDURES & RULES\\n6-13: Procedure for proceeding Abroad\\nISSUE OF NO OBJECTION CERTIFICATE FOR PASSPORT ONLY\\nCertified that Shri ______________________ son of Shri ________________\\nis a permanent employee of Mazagon Dock Shipbuilders Limited, Dockyard\\nRoad, Mazagon, Mumbai 400 010 from ________ (date) and is presently\\nholding the post of _________________ and his identity is certified. This\\norganization has No Objection to his acquiring Indian Passport. The\\nundersigned is duly authorized to sign this Identity Certificate. I have read the\\nprovisions of Section 6(2) of the Passports Act, 1967 and certify that these are\\nnot attracted in the case of this applicant. I recommend issue of an Indian\\nPassport to him. It is certified that this organization is a Central Public Sector\\nUndertaking. The Identity Card No. of Shri_________________ is _________\\nAttested\\nApplicant’s photo For MAZAGON DOCK SHIPBUILDERS LIMITED\\nSignature of HoS (HR-E)\\nOffice Stamp:\\nNOO:\\nCopy to: Shri - This NOC is issued subject to following conditions:\\ni) You will intimate the number and the validity of\\nthe passport as and when obtained.')]"
      ]
     },
     "execution_count": 12,
     "metadata": {},
     "output_type": "execute_result"
    }
   ],
   "source": [
    "vec.as_retriever().invoke('what is passport')"
   ]
  },
  {
   "cell_type": "code",
   "execution_count": 13,
   "metadata": {},
   "outputs": [
    {
     "data": {
      "text/plain": [
       "[Document(metadata={'page': 4, 'pk': 455165437052190726, 'source': 'data/B13 - Chapter II - Procedure  for proceeding Abroad.pdf'}, page_content='HR - Executives’ Manual Page B 13 / 5a CHAPTER -II\\nPOLICIES, PROCEDURES & RULES\\n6-13: Procedure for proceeding Abroad\\nISSUE OF NO OBJECTION CERTIFICATE FOR PASSPORT ONLY\\nCertified that Shri ______________________ son of Shri ________________\\nis a permanent employee of Mazagon Dock Shipbuilders Limited, Dockyard\\nRoad, Mazagon, Mumbai 400 010 from ________ (date) and is presently\\nholding the post of _________________ and his identity is certified. This\\norganization has No Objection to his acquiring Indian Passport. The\\nundersigned is duly authorized to sign this Identity Certificate. I have read the\\nprovisions of Section 6(2) of the Passports Act, 1967 and certify that these are\\nnot attracted in the case of this applicant. I recommend issue of an Indian\\nPassport to him. It is certified that this organization is a Central Public Sector\\nUndertaking. The Identity Card No. of Shri_________________ is _________\\nAttested\\nApplicant’s photo For MAZAGON DOCK SHIPBUILDERS LIMITED\\nSignature of HoS (HR-E)\\nOffice Stamp:\\nNOO:\\nCopy to: Shri - This NOC is issued subject to following conditions:\\ni) You will intimate the number and the validity of\\nthe passport as and when obtained.'),\n",
       " Document(metadata={'page': 4, 'pk': 455165574706626596, 'source': 'data/B13 - Chapter II - Procedure  for proceeding Abroad.pdf'}, page_content='HR - Executives’ Manual Page B 13 / 5a CHAPTER -II\\nPOLICIES, PROCEDURES & RULES\\n6-13: Procedure for proceeding Abroad\\nISSUE OF NO OBJECTION CERTIFICATE FOR PASSPORT ONLY\\nCertified that Shri ______________________ son of Shri ________________\\nis a permanent employee of Mazagon Dock Shipbuilders Limited, Dockyard\\nRoad, Mazagon, Mumbai 400 010 from ________ (date) and is presently\\nholding the post of _________________ and his identity is certified. This\\norganization has No Objection to his acquiring Indian Passport. The\\nundersigned is duly authorized to sign this Identity Certificate. I have read the\\nprovisions of Section 6(2) of the Passports Act, 1967 and certify that these are\\nnot attracted in the case of this applicant. I recommend issue of an Indian\\nPassport to him. It is certified that this organization is a Central Public Sector\\nUndertaking. The Identity Card No. of Shri_________________ is _________\\nAttested\\nApplicant’s photo For MAZAGON DOCK SHIPBUILDERS LIMITED\\nSignature of HoS (HR-E)\\nOffice Stamp:\\nNOO:\\nCopy to: Shri - This NOC is issued subject to following conditions:\\ni) You will intimate the number and the validity of\\nthe passport as and when obtained.'),\n",
       " Document(metadata={'page': 4, 'pk': 455165637130190854, 'source': 'data/B13 - Chapter II - Procedure  for proceeding Abroad.pdf'}, page_content='HR - Executives’ Manual Page B 13 / 5a CHAPTER -II\\nPOLICIES, PROCEDURES & RULES\\n6-13: Procedure for proceeding Abroad\\nISSUE OF NO OBJECTION CERTIFICATE FOR PASSPORT ONLY\\nCertified that Shri ______________________ son of Shri ________________\\nis a permanent employee of Mazagon Dock Shipbuilders Limited, Dockyard\\nRoad, Mazagon, Mumbai 400 010 from ________ (date) and is presently\\nholding the post of _________________ and his identity is certified. This\\norganization has No Objection to his acquiring Indian Passport. The\\nundersigned is duly authorized to sign this Identity Certificate. I have read the\\nprovisions of Section 6(2) of the Passports Act, 1967 and certify that these are\\nnot attracted in the case of this applicant. I recommend issue of an Indian\\nPassport to him. It is certified that this organization is a Central Public Sector\\nUndertaking. The Identity Card No. of Shri_________________ is _________\\nAttested\\nApplicant’s photo For MAZAGON DOCK SHIPBUILDERS LIMITED\\nSignature of HoS (HR-E)\\nOffice Stamp:\\nNOO:\\nCopy to: Shri - This NOC is issued subject to following conditions:\\ni) You will intimate the number and the validity of\\nthe passport as and when obtained.'),\n",
       " Document(metadata={'page': 4, 'pk': 455165637400199204, 'source': 'data/B13 - Chapter II - Procedure  for proceeding Abroad.pdf'}, page_content='HR - Executives’ Manual Page B 13 / 5a CHAPTER -II\\nPOLICIES, PROCEDURES & RULES\\n6-13: Procedure for proceeding Abroad\\nISSUE OF NO OBJECTION CERTIFICATE FOR PASSPORT ONLY\\nCertified that Shri ______________________ son of Shri ________________\\nis a permanent employee of Mazagon Dock Shipbuilders Limited, Dockyard\\nRoad, Mazagon, Mumbai 400 010 from ________ (date) and is presently\\nholding the post of _________________ and his identity is certified. This\\norganization has No Objection to his acquiring Indian Passport. The\\nundersigned is duly authorized to sign this Identity Certificate. I have read the\\nprovisions of Section 6(2) of the Passports Act, 1967 and certify that these are\\nnot attracted in the case of this applicant. I recommend issue of an Indian\\nPassport to him. It is certified that this organization is a Central Public Sector\\nUndertaking. The Identity Card No. of Shri_________________ is _________\\nAttested\\nApplicant’s photo For MAZAGON DOCK SHIPBUILDERS LIMITED\\nSignature of HoS (HR-E)\\nOffice Stamp:\\nNOO:\\nCopy to: Shri - This NOC is issued subject to following conditions:\\ni) You will intimate the number and the validity of\\nthe passport as and when obtained.')]"
      ]
     },
     "execution_count": 13,
     "metadata": {},
     "output_type": "execute_result"
    }
   ],
   "source": [
    "vec1.as_retriever().invoke('what is passport')"
   ]
  },
  {
   "cell_type": "code",
   "execution_count": 14,
   "metadata": {},
   "outputs": [
    {
     "name": "stdout",
     "output_type": "stream",
     "text": [
      "['test_collection']\n"
     ]
    }
   ],
   "source": [
    "from pymilvus import MilvusClient, DataType\n",
    "\n",
    "client = MilvusClient(\n",
    "   \"database/milvushr.db\"\n",
    ")\n",
    "\n",
    "res = client.list_collections()\n",
    "\n",
    "print(res)"
   ]
  },
  {
   "cell_type": "code",
   "execution_count": 15,
   "metadata": {},
   "outputs": [
    {
     "data": {
      "text/plain": [
       "{'row_count': 120}"
      ]
     },
     "execution_count": 15,
     "metadata": {},
     "output_type": "execute_result"
    }
   ],
   "source": [
    "client.get_collection_stats('test_collection')\n"
   ]
  },
  {
   "cell_type": "code",
   "execution_count": 21,
   "metadata": {},
   "outputs": [
    {
     "ename": "ConnectionNotExistException",
     "evalue": "<ConnectionNotExistException: (code=1, message=should create connection first.)>",
     "output_type": "error",
     "traceback": [
      "\u001b[0;31m---------------------------------------------------------------------------\u001b[0m",
      "\u001b[0;31mConnectionNotExistException\u001b[0m               Traceback (most recent call last)",
      "Cell \u001b[0;32mIn[21], line 1\u001b[0m\n\u001b[0;32m----> 1\u001b[0m \u001b[38;5;28;01mif\u001b[39;00m \u001b[43mclient\u001b[49m\u001b[38;5;241;43m.\u001b[39;49m\u001b[43mhas_collection\u001b[49m\u001b[43m(\u001b[49m\u001b[38;5;124;43m'\u001b[39;49m\u001b[38;5;124;43mtest_collection\u001b[39;49m\u001b[38;5;124;43m'\u001b[39;49m\u001b[43m)\u001b[49m:\n\u001b[1;32m      2\u001b[0m     client\u001b[38;5;241m.\u001b[39mcolse()\n\u001b[1;32m      3\u001b[0m     \u001b[38;5;28mprint\u001b[39m(\u001b[38;5;124m'\u001b[39m\u001b[38;5;124mconnection closed\u001b[39m\u001b[38;5;124m'\u001b[39m)\n",
      "File \u001b[0;32m~/miniconda3/envs/rag/lib/python3.10/site-packages/pymilvus/milvus_client/milvus_client.py:650\u001b[0m, in \u001b[0;36mMilvusClient.has_collection\u001b[0;34m(self, collection_name, timeout, **kwargs)\u001b[0m\n\u001b[1;32m    649\u001b[0m \u001b[38;5;28;01mdef\u001b[39;00m \u001b[38;5;21mhas_collection\u001b[39m(\u001b[38;5;28mself\u001b[39m, collection_name: \u001b[38;5;28mstr\u001b[39m, timeout: Optional[\u001b[38;5;28mfloat\u001b[39m] \u001b[38;5;241m=\u001b[39m \u001b[38;5;28;01mNone\u001b[39;00m, \u001b[38;5;241m*\u001b[39m\u001b[38;5;241m*\u001b[39mkwargs):\n\u001b[0;32m--> 650\u001b[0m     conn \u001b[38;5;241m=\u001b[39m \u001b[38;5;28;43mself\u001b[39;49m\u001b[38;5;241;43m.\u001b[39;49m\u001b[43m_get_connection\u001b[49m\u001b[43m(\u001b[49m\u001b[43m)\u001b[49m\n\u001b[1;32m    651\u001b[0m     \u001b[38;5;28;01mreturn\u001b[39;00m conn\u001b[38;5;241m.\u001b[39mhas_collection(collection_name, timeout\u001b[38;5;241m=\u001b[39mtimeout, \u001b[38;5;241m*\u001b[39m\u001b[38;5;241m*\u001b[39mkwargs)\n",
      "File \u001b[0;32m~/miniconda3/envs/rag/lib/python3.10/site-packages/pymilvus/milvus_client/milvus_client.py:710\u001b[0m, in \u001b[0;36mMilvusClient._get_connection\u001b[0;34m(self)\u001b[0m\n\u001b[1;32m    709\u001b[0m \u001b[38;5;28;01mdef\u001b[39;00m \u001b[38;5;21m_get_connection\u001b[39m(\u001b[38;5;28mself\u001b[39m):\n\u001b[0;32m--> 710\u001b[0m     \u001b[38;5;28;01mreturn\u001b[39;00m \u001b[43mconnections\u001b[49m\u001b[38;5;241;43m.\u001b[39;49m\u001b[43m_fetch_handler\u001b[49m\u001b[43m(\u001b[49m\u001b[38;5;28;43mself\u001b[39;49m\u001b[38;5;241;43m.\u001b[39;49m\u001b[43m_using\u001b[49m\u001b[43m)\u001b[49m\n",
      "File \u001b[0;32m~/miniconda3/envs/rag/lib/python3.10/site-packages/pymilvus/orm/connections.py:540\u001b[0m, in \u001b[0;36mConnections._fetch_handler\u001b[0;34m(self, alias)\u001b[0m\n\u001b[1;32m    538\u001b[0m conn \u001b[38;5;241m=\u001b[39m \u001b[38;5;28mself\u001b[39m\u001b[38;5;241m.\u001b[39m_connected_alias\u001b[38;5;241m.\u001b[39mget(alias, \u001b[38;5;28;01mNone\u001b[39;00m)\n\u001b[1;32m    539\u001b[0m \u001b[38;5;28;01mif\u001b[39;00m conn \u001b[38;5;129;01mis\u001b[39;00m \u001b[38;5;28;01mNone\u001b[39;00m:\n\u001b[0;32m--> 540\u001b[0m     \u001b[38;5;28;01mraise\u001b[39;00m ConnectionNotExistException(message\u001b[38;5;241m=\u001b[39mExceptionsMessage\u001b[38;5;241m.\u001b[39mConnectFirst)\n\u001b[1;32m    542\u001b[0m \u001b[38;5;28;01mreturn\u001b[39;00m conn\n",
      "\u001b[0;31mConnectionNotExistException\u001b[0m: <ConnectionNotExistException: (code=1, message=should create connection first.)>"
     ]
    }
   ],
   "source": [
    "if client.has_collection('test_collection'):\n",
    "    client.colse()\n",
    "    print('connection closed')"
   ]
  },
  {
   "cell_type": "code",
   "execution_count": 17,
   "metadata": {},
   "outputs": [
    {
     "name": "stdout",
     "output_type": "stream",
     "text": [
      "Total No. of Collections: 1\n",
      "Collection Name : test_collection ----- No. of Records : 120\n"
     ]
    }
   ],
   "source": [
    "collections = client.list_collections()\n",
    "print(f\"Total No. of Collections: {len(collections)}\")\n",
    "\n",
    "for name in collections:\n",
    "    print(f\"Collection Name : {name} ----- No. of Records : {client.get_collection_stats(name)['row_count']}\")\n"
   ]
  },
  {
   "cell_type": "code",
   "execution_count": 22,
   "metadata": {},
   "outputs": [],
   "source": [
    "client.close()"
   ]
  },
  {
   "cell_type": "code",
   "execution_count": null,
   "metadata": {},
   "outputs": [],
   "source": []
  },
  {
   "cell_type": "code",
   "execution_count": null,
   "metadata": {},
   "outputs": [],
   "source": []
  }
 ],
 "metadata": {
  "kernelspec": {
   "display_name": "rag",
   "language": "python",
   "name": "python3"
  },
  "language_info": {
   "codemirror_mode": {
    "name": "ipython",
    "version": 3
   },
   "file_extension": ".py",
   "mimetype": "text/x-python",
   "name": "python",
   "nbconvert_exporter": "python",
   "pygments_lexer": "ipython3",
   "version": "3.10.15"
  }
 },
 "nbformat": 4,
 "nbformat_minor": 2
}
