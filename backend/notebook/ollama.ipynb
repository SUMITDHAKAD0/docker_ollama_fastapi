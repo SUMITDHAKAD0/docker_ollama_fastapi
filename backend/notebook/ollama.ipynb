{
 "cells": [
  {
   "cell_type": "code",
   "execution_count": 23,
   "metadata": {},
   "outputs": [
    {
     "data": {
      "text/plain": [
       "'/home/verge/Desktop/docker_test/backend/notebook'"
      ]
     },
     "execution_count": 23,
     "metadata": {},
     "output_type": "execute_result"
    }
   ],
   "source": [
    "%pwd "
   ]
  },
  {
   "cell_type": "code",
   "execution_count": 25,
   "metadata": {},
   "outputs": [
    {
     "name": "stdout",
     "output_type": "stream",
     "text": [
      "/home/verge/Desktop/docker_test/backend\n"
     ]
    },
    {
     "name": "stderr",
     "output_type": "stream",
     "text": [
      "/home/verge/miniconda3/envs/rag/lib/python3.10/site-packages/IPython/core/magics/osm.py:417: UserWarning: This is now an optional IPython functionality, setting dhist requires you to install the `pickleshare` library.\n",
      "  self.shell.db['dhist'] = compress_dhist(dhist)[-100:]\n"
     ]
    }
   ],
   "source": [
    "%cd .."
   ]
  },
  {
   "cell_type": "code",
   "execution_count": 20,
   "metadata": {},
   "outputs": [],
   "source": [
    "from langchain.text_splitter import RecursiveCharacterTextSplitter\n",
    "from langchain.prompts import PromptTemplate\n",
    "from langchain_community.document_loaders import PyPDFLoader\n",
    "from langchain.prompts import ChatPromptTemplate\n",
    "from langchain_core.output_parsers import StrOutputParser\n",
    "from langchain_core.runnables import RunnablePassthrough, RunnableMap\n",
    "from langchain_core.documents import Document\n",
    "\n",
    "from IPython.display import Markdown, display"
   ]
  },
  {
   "cell_type": "code",
   "execution_count": 16,
   "metadata": {},
   "outputs": [],
   "source": [
    "from langchain_ollama import ChatOllama, OllamaEmbeddings\n",
    "\n",
    "\n",
    "ollama_llm = ChatOllama(\n",
    "    model= 'llama3.2-vision',\n",
    "    base_url=\"http://localhost:11434\",\n",
    "    temperature=0.7,\n",
    "    num_ctx = 1024, # size of the context window\n",
    "    num_predict = -2, # Maximum number of tokens to predict when generating text.\n",
    "    top_k=40,\n",
    "    top_p=0.9,  \n",
    ")\n",
    "\n",
    "ollama_embedding = OllamaEmbeddings(\n",
    "    model=\"llama3.2-vision\",\n",
    "    base_url=\"http://localhost:11434\"\n",
    ")"
   ]
  },
  {
   "cell_type": "code",
   "execution_count": 21,
   "metadata": {},
   "outputs": [],
   "source": [
    "# ollama_llm.invoke('what is ai').content\n",
    "# ollama_embedding.embed_query('what is ai')"
   ]
  },
  {
   "cell_type": "code",
   "execution_count": 27,
   "metadata": {},
   "outputs": [
    {
     "data": {
      "text/plain": [
       "11"
      ]
     },
     "execution_count": 27,
     "metadata": {},
     "output_type": "execute_result"
    }
   ],
   "source": [
    "# for directory loader \n",
    "\n",
    "\n",
    "loader = PyPDFLoader('data/B13 - Chapter II - Procedure  for proceeding Abroad.pdf')\n",
    "documents = loader.load()\n",
    "len(documents)"
   ]
  },
  {
   "cell_type": "code",
   "execution_count": 28,
   "metadata": {},
   "outputs": [
    {
     "data": {
      "text/plain": [
       "15"
      ]
     },
     "execution_count": 28,
     "metadata": {},
     "output_type": "execute_result"
    }
   ],
   "source": [
    "text_splitter = RecursiveCharacterTextSplitter(\n",
    "    chunk_size=1200,\n",
    "    chunk_overlap=200,\n",
    "    length_function=len,\n",
    "    is_separator_regex=False,\n",
    ")\n",
    "\n",
    "chunks = text_splitter.split_documents(documents)\n",
    "len(chunks)"
   ]
  },
  {
   "cell_type": "code",
   "execution_count": 30,
   "metadata": {},
   "outputs": [],
   "source": [
    "from langchain_milvus import Milvus\n",
    "# creating new database\n",
    "vectorstore = Milvus.from_documents(\n",
    "                documents=chunks,\n",
    "                embedding= ollama_embedding,\n",
    "                collection_name='collection',\n",
    "                connection_args={'uri': 'database/milvustest.db'},\n",
    "                drop_old=True,\n",
    "            )\n"
   ]
  },
  {
   "cell_type": "code",
   "execution_count": 31,
   "metadata": {},
   "outputs": [],
   "source": [
    "# # loading existing database\n",
    "vectorstore = Milvus(\n",
    "    ollama_embedding,\n",
    "    connection_args={'uri': 'database/milvustest.db'},\n",
    "    collection_name='collection',\n",
    ")"
   ]
  },
  {
   "cell_type": "code",
   "execution_count": 32,
   "metadata": {},
   "outputs": [],
   "source": [
    "from langchain.retrievers import BM25Retriever, EnsembleRetriever\n",
    "# from langchain.retrievers import EnsembleRetriever\n",
    "# from langchain_community.retrievers import BM25Retriever\n",
    "\n",
    "# Define the search parameters\n",
    "search_kwargs = {\"k\": 5, \"ef\": 10}  # Ensure ef >= k\n",
    "\n",
    "# Create the individual retrievers with the search parameters\n",
    "retriever = vectorstore.as_retriever(\n",
    "        search_type=\"similarity\", \n",
    "        search_kwargs=search_kwargs\n",
    "    )\n"
   ]
  },
  {
   "cell_type": "code",
   "execution_count": 33,
   "metadata": {},
   "outputs": [
    {
     "data": {
      "text/plain": [
       "[Document(metadata={'page': 1, 'pk': 455145358243135490, 'source': 'data/B13 - Chapter II - Procedure  for proceeding Abroad.pdf'}, page_content='HR - Executives’ Manual Page B 13 / 2\\nCHAPTER-Il\\nm POLICIES, PROCEDURES & RULES\\nB-13 Procedure for proceedinci Abroad\\nnoted that the NOC issued to an individual is for a one-time visit and for a\\nparticular purpose and will not be valid for subsequent visits for which the NOC\\nhas been initially granted. NOC for visiting friendly countries like Nepal, Bhutan\\nvihere passport / visas are not required is also required to be obtained.\\n3. AVAILING OF LEAVE BY EMPLOYEES WHO PROCEED ABROAD ON\\nTEMPORARY DUTY / TRAINING / OTHERWISE\\nPossession of a passport by an individual is not an authority to go to any foreign\\ncountry. Employees desirous of proceeding abroad on leave or on termination\\nof course / training / conference / seminar in a foreign country must obtain\\nprior sanction / approval of the concerned Competent Authority. An employee\\nmay, subject to the exigencies of Company’s service be granted leave not\\nexceeding 50% of the actual period of temporary duty abroad or 15 days,\\nwhichever is less, on submission of an undertaking as per Appendix ‘C’.\\n4. WRITING REPORT\\nOn return from abroad, the concerned employee is required to submit a written'),\n",
       " Document(metadata={'page': 0, 'pk': 455145358243135488, 'source': 'data/B13 - Chapter II - Procedure  for proceeding Abroad.pdf'}, page_content='HR - Executives’ Manual Page B 13 I 1\\nCHAPTER - II\\nm POLICIES, PROCEDURES & RULES\\nB-13 : Procedure for nroceedinci Abroad\\nEmployees of the Company may be required to proceed to a foreign country\\nfor any of the following reasons:\\n> To attend a Training Course I Conference I Seminar;\\n> On deputation;\\n> As a member of a Delegation I Mission;\\n> On leave;\\n> On leave extraordinary while in a foreign country.\\n2. When an employee proceeds abroad for any of the above purposes, it is most\\nnecessary to ensure compliance with security instructions, so that there are no\\nbreaches of security. Accordingly, the following instructions are issued as\\ndirected by the Ministry of Defence for strict compliance by all the employees\\nof the Company:\\n2.1 OBTAINING A ‘NO OBJECTION CERTIFICATE’ (NOC’) FOR PASSPORT ONLY\\nIt is a mandatory requirement for an employee of the Company to obtain a\\nNOC in the prescribed proforma as per Appendix ‘A’. The NOC so obtained does\\nnot authorise the individual to proceed to a foreign country. He! She is required\\nto obtain specific NOC prior to his / her proceeding to a foreign country. The\\nAuthority Competent to issue an NOC to obtain a passport is HoS (HR-E) in'),\n",
       " Document(metadata={'page': 4, 'pk': 455145358243135494, 'source': 'data/B13 - Chapter II - Procedure  for proceeding Abroad.pdf'}, page_content='HR - Executives’ Manual Page B 13 / 5a CHAPTER -II\\nPOLICIES, PROCEDURES & RULES\\n6-13: Procedure for proceeding Abroad\\nISSUE OF NO OBJECTION CERTIFICATE FOR PASSPORT ONLY\\nCertified that Shri ______________________ son of Shri ________________\\nis a permanent employee of Mazagon Dock Shipbuilders Limited, Dockyard\\nRoad, Mazagon, Mumbai 400 010 from ________ (date) and is presently\\nholding the post of _________________ and his identity is certified. This\\norganization has No Objection to his acquiring Indian Passport. The\\nundersigned is duly authorized to sign this Identity Certificate. I have read the\\nprovisions of Section 6(2) of the Passports Act, 1967 and certify that these are\\nnot attracted in the case of this applicant. I recommend issue of an Indian\\nPassport to him. It is certified that this organization is a Central Public Sector\\nUndertaking. The Identity Card No. of Shri_________________ is _________\\nAttested\\nApplicant’s photo For MAZAGON DOCK SHIPBUILDERS LIMITED\\nSignature of HoS (HR-E)\\nOffice Stamp:\\nNOO:\\nCopy to: Shri - This NOC is issued subject to following conditions:\\ni) You will intimate the number and the validity of\\nthe passport as and when obtained.'),\n",
       " Document(metadata={'page': 10, 'pk': 455145358243135502, 'source': 'data/B13 - Chapter II - Procedure  for proceeding Abroad.pdf'}, page_content='HR - Executives’ Manual Page B 13 / 11\\nCHAPTER -II\\nm POLICIES, PROCEDURES & RULES\\nB-13 : Procedure for Droceedina Abroad\\nREFERENCE MEMORANDA\\nCircular No Date Subject / Amendments\\n1. CH/18/2024 22.01.2024 Amendment to HR-Executive Manual\\nMazagon Dock Shipbuilders Limited, Dockyard Road, Mumbai - 400 010'),\n",
       " Document(metadata={'page': 0, 'pk': 455145358243135489, 'source': 'data/B13 - Chapter II - Procedure  for proceeding Abroad.pdf'}, page_content='to obtain specific NOC prior to his / her proceeding to a foreign country. The\\nAuthority Competent to issue an NOC to obtain a passport is HoS (HR-E) in\\nrespect of executives.\\n2.2 OBTAINING A ‘NO OBJECTION CERTIFICATE’ (NOC) FOR PROCEEDING\\nABROAD\\nWhen an employee is desirous of proceeding abroad, it is mandatory for him I\\nher to obtain an NOC in the prescribed proforma as per Appendix ‘B’. The\\nconcerned individual is required to complete Part-I of Appendix ‘B’, Part-Il will\\nbe completed by his! her Departmental Head and Part-Ill by the Administrative\\nCell i.e. HoS (HR-E) / HoS (F-P&S). The Administrative Cell will simultaneously\\nprocess the case with the Vigilance Department for obtaining Security, Vigilance\\nClearance. On receipt of the clearance from the Vigilance Department the NOC\\nwill be issued. For this purpose, approval of Chairman & Managing Director will\\nbe obtained on file prior to the issue of the NOC by HoS (HR-E). It may be\\nMazagon Dock Shipbuilders Limited, Dockyard Road, Mumbai - 400 010')]"
      ]
     },
     "execution_count": 33,
     "metadata": {},
     "output_type": "execute_result"
    }
   ],
   "source": [
    "# Retrieve relevant documents/products\n",
    "query = 'how to get maternity leaves'\n",
    "r4 = retriever.invoke(query)\n",
    "r4"
   ]
  },
  {
   "cell_type": "code",
   "execution_count": 35,
   "metadata": {},
   "outputs": [],
   "source": [
    "# # Define the prompt template\n",
    "\n",
    "prompt = ChatPromptTemplate.from_template(\"\"\"                                \n",
    "                Please analyze the following text and provide a summary or key insights based on its \n",
    "                content: {context} + {question}\n",
    "\n",
    "                Question: {question}\n",
    "                If there are no clear questions, please offer general information or commentary \n",
    "                related to the themes and topics presented.\n",
    "            \"\"\")\n",
    "\n",
    "\n",
    "# Define the pipeline\n",
    "chain = (\n",
    "        RunnableMap({\n",
    "            \"context\": retriever,  # Use your retriever here\n",
    "            \"question\": RunnablePassthrough()  # Pass\n",
    "        })\n",
    "        | prompt \n",
    "        | ollama_llm \n",
    "        | StrOutputParser() \n",
    "    )\n"
   ]
  },
  {
   "cell_type": "code",
   "execution_count": null,
   "metadata": {},
   "outputs": [
    {
     "data": {
      "text/plain": [
       "'Based on the context of the provided documents, it appears that AI is not explicitly mentioned as a specific topic or concept being discussed.\\n\\nHowever, I can provide some general information and commentary on the themes and topics presented in the documents:\\n\\nThe documents seem to be part of an HR manual for Mazagon Dock Shipbuilders Limited, outlining procedures for employees to obtain \"No Objection Certificates\" (NOCs) for various purposes, including obtaining passports and proceeding abroad. The documents also mention administrative processes, clearance from Vigilance Department, and approval from high-level authorities.\\n\\nIf I were to infer a connection to AI, it might be related to the use of digital tools or automation in processing and managing these NOC applications, although there is no explicit reference to AI technologies such as machine learning or natural language processing.'"
      ]
     },
     "execution_count": 36,
     "metadata": {},
     "output_type": "execute_result"
    },
    {
     "ename": "",
     "evalue": "",
     "output_type": "error",
     "traceback": [
      "\u001b[1;31mThe Kernel crashed while executing code in the current cell or a previous cell. \n",
      "\u001b[1;31mPlease review the code in the cell(s) to identify a possible cause of the failure. \n",
      "\u001b[1;31mClick <a href='https://aka.ms/vscodeJupyterKernelCrash'>here</a> for more info. \n",
      "\u001b[1;31mView Jupyter <a href='command:jupyter.viewOutput'>log</a> for further details."
     ]
    }
   ],
   "source": [
    "chain.invoke('what is ai')"
   ]
  },
  {
   "cell_type": "code",
   "execution_count": null,
   "metadata": {},
   "outputs": [],
   "source": []
  }
 ],
 "metadata": {
  "kernelspec": {
   "display_name": "rag",
   "language": "python",
   "name": "python3"
  },
  "language_info": {
   "codemirror_mode": {
    "name": "ipython",
    "version": 3
   },
   "file_extension": ".py",
   "mimetype": "text/x-python",
   "name": "python",
   "nbconvert_exporter": "python",
   "pygments_lexer": "ipython3",
   "version": "3.10.15"
  }
 },
 "nbformat": 4,
 "nbformat_minor": 2
}
